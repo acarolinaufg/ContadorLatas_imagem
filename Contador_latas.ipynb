{
 "cells": [
  {
   "cell_type": "code",
   "execution_count": null,
   "metadata": {},
   "outputs": [
    {
     "name": "stdout",
     "output_type": "stream",
     "text": [
      "(1, 5, 3)\n"
     ]
    }
   ],
   "source": [
    "#importando pacotes necessários\n",
    "import numpy as np\n",
    "import cv2 as cv\n",
    "\n",
    "#Upando a imagems\n",
    "img= cv.imread('img1.jpeg')\n",
    "output = img.copy()\n",
    "# Carregando a imagem, clonando ela para saída e convertendo ela para escala de cinza\n",
    "gray = cv.medianBlur(img, 5)\n",
    "gray= cv.cvtColor(img, cv.COLOR_BGR2GRAY)\n",
    "\n",
    "circles = cv.HoughCircles(gray,cv.HOUGH_GRADIENT,1,200, minRadius=0, maxRadius=0)\n",
    "detected_circles = np.uint16(np.around(circles))\n",
    "for i in detected_circles[0,:]:\n",
    "    cv.circle(output,(i[0],i[1]),i[2],(0,255,0),2)\n",
    "    cv.circle(output,(i[0],i[1]),2,(0,0,255),3)\n",
    "print(circles.shape)\n",
    "cv.imshow('output',output)\n",
    "cv.waitKey(0)\n",
    "cv.destroyAllWindows()\n"
   ]
  },
  {
   "cell_type": "markdown",
   "metadata": {},
   "source": [
    "### Sobre os pacotes utilizados\n",
    "\n",
    "Numpy - para os processamentos numéricos\n",
    "cv2 - para a parte com OpenCV"
   ]
  },
  {
   "cell_type": "code",
   "execution_count": null,
   "metadata": {},
   "outputs": [],
   "source": []
  }
 ],
 "metadata": {
  "kernelspec": {
   "display_name": "Python 3",
   "language": "python",
   "name": "python3"
  },
  "language_info": {
   "codemirror_mode": {
    "name": "ipython",
    "version": 3
   },
   "file_extension": ".py",
   "mimetype": "text/x-python",
   "name": "python",
   "nbconvert_exporter": "python",
   "pygments_lexer": "ipython3",
   "version": "3.8.5"
  }
 },
 "nbformat": 4,
 "nbformat_minor": 4
}
